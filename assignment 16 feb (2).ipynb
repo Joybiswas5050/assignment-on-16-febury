{
 "cells": [
  {
   "cell_type": "code",
   "execution_count": 1,
   "id": "3e7c7c02-8bdd-4ab3-a17a-c07cfd4a99f7",
   "metadata": {},
   "outputs": [],
   "source": [
    "###question no 1"
   ]
  },
  {
   "cell_type": "code",
   "execution_count": null,
   "id": "76f64d5c-b186-41c5-87f6-9eebbc8c3616",
   "metadata": {},
   "outputs": [],
   "source": [
    "A database is a structured collection of data that can be stored, organized, and managed in a way that allows for easy retrieval and manipulation of the data. A database can be thought of as a large filing system that stores and manages information.\n",
    "\n",
    "SQL (Structured Query Language) and NoSQL (Not Only SQL) are two types of database management systems (DBMS) that use different approaches to store and manage data.\n",
    "\n",
    "SQL databases are relational databases that use tables to store data. Each table contains rows and columns, and each row represents a record or data point, while columns represent attributes or fields of the data. SQL databases use SQL to manipulate and query the data in the tables. SQL is a standardized language that allows users to perform various operations, such as selecting, inserting, updating, and deleting data.\n",
    "\n",
    "NoSQL databases, on the other hand, use a non-relational approach to store and manage data. They do not use tables with fixed rows and columns like SQL databases. Instead, NoSQL databases use different data models, such as key-value, document-oriented, column-family, or graph. NoSQL databases can handle unstructured and semi-structured data more efficiently than SQL databases, making them suitable for big data applications.\n",
    "\n",
    "The choice between SQL and NoSQL databases depends on the specific needs of an application. SQL databases are good for structured data and well-defined schemas, while NoSQL databases are suitable for unstructured data and evolving schemas. SQL databases are typically more reliable and have better support for transactions, while NoSQL databases are more flexible and scalable."
   ]
  },
  {
   "cell_type": "code",
   "execution_count": 2,
   "id": "dec5d512-62f7-4a4e-97ef-43fb5cda8baa",
   "metadata": {},
   "outputs": [],
   "source": [
    "###question no 2"
   ]
  },
  {
   "cell_type": "code",
   "execution_count": null,
   "id": "01885116-eb85-4651-8045-26e76dbfa959",
   "metadata": {},
   "outputs": [],
   "source": [
    "DDL stands for Data Definition Language, and it is a subset of SQL (Structured Query Language) used to define and manipulate the structure of a database. DDL statements are used to create, modify, and delete database objects such as tables, views, indexes, and sequences.\n",
    "\n",
    "In Python, you can execute DDL statements using a database connector library such as sqlite3 or psycopg2.\n",
    "\n",
    "Here are some examples of how to use the four most common DDL statements in Python:\n",
    "\n",
    "CREATE\n",
    "The CREATE statement is used to create a new database object such as a table. Here's an example of how to create a new table in Python using the sqlite3 library"
   ]
  },
  {
   "cell_type": "code",
   "execution_count": null,
   "id": "21e0361f-b9a4-4324-be16-517e34a8b670",
   "metadata": {},
   "outputs": [],
   "source": [
    "import sqlite3\n",
    "\n",
    "conn = sqlite3.connect('mydatabase.db')\n",
    "c = conn.cursor()\n",
    "\n",
    "c.execute('''CREATE TABLE users\n",
    "             (id INTEGER PRIMARY KEY, name TEXT, age INTEGER)''')\n",
    "\n",
    "conn.commit()\n",
    "conn.close()\n"
   ]
  },
  {
   "cell_type": "code",
   "execution_count": null,
   "id": "88ae5a4d-567b-477e-9c00-fefe7d3ae362",
   "metadata": {},
   "outputs": [],
   "source": [
    "This code creates a new table named \"users\" with three columns: \"id\", \"name\", and \"age\".\n",
    "\n",
    "DROP\n",
    "The DROP statement is used to remove an existing database object. Here's an example of how to drop a table in Python using the sqlite3 library:"
   ]
  },
  {
   "cell_type": "code",
   "execution_count": null,
   "id": "939a931a-2a4b-42e9-bca1-b5efff42a072",
   "metadata": {},
   "outputs": [],
   "source": [
    "import sqlite3\n",
    "\n",
    "conn = sqlite3.connect('mydatabase.db')\n",
    "c = conn.cursor()\n",
    "\n",
    "c.execute('''DROP TABLE users''')\n",
    "\n",
    "conn.commit()\n",
    "conn.close()\n"
   ]
  },
  {
   "cell_type": "code",
   "execution_count": null,
   "id": "d301db54-025f-4ed5-b02b-bd5b624c36f5",
   "metadata": {},
   "outputs": [],
   "source": [
    "The ALTER statement is used to modify the structure of an existing database object. Here's an example of how to add a new column to a table in Python using the sqlite3 library:"
   ]
  },
  {
   "cell_type": "code",
   "execution_count": null,
   "id": "3da1e0dc-59ae-41a4-8420-1623c82bf355",
   "metadata": {},
   "outputs": [],
   "source": [
    "import sqlite3\n",
    "\n",
    "conn = sqlite3.connect('mydatabase.db')\n",
    "c = conn.cursor()\n",
    "\n",
    "c.execute('''ALTER TABLE users\n",
    "             ADD COLUMN email TEXT''')\n",
    "\n",
    "conn.commit()\n",
    "conn.close()\n"
   ]
  },
  {
   "cell_type": "code",
   "execution_count": null,
   "id": "109ddfb7-0cdf-4541-a924-7e4cbfd14c64",
   "metadata": {},
   "outputs": [],
   "source": [
    "The TRUNCATE statement is used to delete all data from an existing database object. Here's an example of how to truncate a table in Python using the psycopg2 library:"
   ]
  },
  {
   "cell_type": "code",
   "execution_count": null,
   "id": "20f99c2b-8efd-4fcc-91e3-f9b26a253c21",
   "metadata": {},
   "outputs": [],
   "source": [
    "import psycopg2\n",
    "\n",
    "conn = psycopg2.connect(database=\"mydatabase\", user=\"myusername\", password=\"mypassword\", host=\"localhost\", port=\"5432\")\n",
    "c = conn.cursor()\n",
    "\n",
    "c.execute('''TRUNCATE TABLE users''')\n",
    "\n",
    "conn.commit()\n",
    "conn.close()\n"
   ]
  },
  {
   "cell_type": "code",
   "execution_count": 3,
   "id": "c8bf61b9-0d72-4292-b2f2-8f97480c35f8",
   "metadata": {},
   "outputs": [],
   "source": [
    "###question no 3"
   ]
  },
  {
   "cell_type": "code",
   "execution_count": null,
   "id": "e30de23c-5bdc-489d-a044-00aa8d875a18",
   "metadata": {},
   "outputs": [],
   "source": [
    "DML stands for Data Manipulation Language. It is a subset of SQL (Structured Query Language) used to modify and manipulate data stored in a database. The three main operations of DML are INSERT, UPDATE, and DELETE.\n",
    "\n",
    "Here is how you can use these DML operations in Python:"
   ]
  },
  {
   "cell_type": "code",
   "execution_count": null,
   "id": "d5eef10b-b437-4df1-b9ab-44fd72cb2ca0",
   "metadata": {},
   "outputs": [],
   "source": [
    "import sqlite3\n",
    "\n",
    "# Connect to database\n",
    "conn = sqlite3.connect('example.db')\n",
    "cursor = conn.cursor()\n",
    "\n",
    "# Insert a new row into the table\n",
    "cursor.execute(\"INSERT INTO my_table (name, age, city) VALUES (?, ?, ?)\", ('John', 30, 'New York'))\n",
    "\n",
    "# Commit the changes\n",
    "conn.commit()\n",
    "\n",
    "# Close the connection\n",
    "conn.close()\n"
   ]
  },
  {
   "cell_type": "code",
   "execution_count": null,
   "id": "1e8e294d-1512-44b1-8ce6-da166d693743",
   "metadata": {},
   "outputs": [],
   "source": [
    "n this example, we connect to a SQLite database, create a cursor object, and then use the execute method of the cursor object to insert a new row into the my_table table. We use parameterized queries to pass values for the name, age, and city columns."
   ]
  },
  {
   "cell_type": "code",
   "execution_count": null,
   "id": "a1f936e1-8cf8-4e9d-b89e-9cebc2cbfb99",
   "metadata": {},
   "outputs": [],
   "source": [
    "import sqlite3\n",
    "\n",
    "# Connect to database\n",
    "conn = sqlite3.connect('example.db')\n",
    "cursor = conn.cursor()\n",
    "\n",
    "# Update the age of John to 31\n",
    "cursor.execute(\"UPDATE my_table SET age = ? WHERE name = ?\", (31, 'John'))\n",
    "\n",
    "# Commit the changes\n",
    "conn.commit()\n",
    "\n",
    "# Close the connection\n",
    "conn.close()\n"
   ]
  },
  {
   "cell_type": "code",
   "execution_count": null,
   "id": "27164eca-6bfe-4dbf-a791-e2ed42343268",
   "metadata": {},
   "outputs": [],
   "source": [
    "In this example, we use the execute method of the cursor object to update the age column of the row with the name of \"John\" in the my_table table. We use parameterized queries to pass the new value of 31 for the age column."
   ]
  },
  {
   "cell_type": "code",
   "execution_count": null,
   "id": "86c1d8aa-6509-49a4-97e3-1ca547c6d8b2",
   "metadata": {},
   "outputs": [],
   "source": [
    "import sqlite3\n",
    "\n",
    "# Connect to database\n",
    "conn = sqlite3.connect('example.db')\n",
    "cursor = conn.cursor()\n",
    "\n",
    "# Delete the row with the name of John\n",
    "cursor.execute(\"DELETE FROM my_table WHERE name = ?\", ('John',))\n",
    "\n",
    "# Commit the changes\n",
    "conn.commit()\n",
    "\n",
    "# Close the connection\n",
    "conn.close()\n"
   ]
  },
  {
   "cell_type": "code",
   "execution_count": 4,
   "id": "a1eef76d-7875-4c6a-a1d0-22934149f41c",
   "metadata": {},
   "outputs": [],
   "source": [
    "###question no 4"
   ]
  },
  {
   "cell_type": "code",
   "execution_count": null,
   "id": "edc8f376-b8f2-4623-9198-cb27c2b2c08f",
   "metadata": {},
   "outputs": [],
   "source": [
    "DQL stands for Data Query Language, which is a subset of SQL (Structured Query Language) used to retrieve data from a database. DQL consists of commands such as SELECT, FROM, WHERE, GROUP BY, HAVING, and ORDER BY, which can be combined in various ways to retrieve the desired data.\n",
    "\n",
    "SELECT is the most commonly used command in DQL and is used to retrieve data from one or more tables in a database. The basic syntax of the SELECT command is as follows:"
   ]
  },
  {
   "cell_type": "code",
   "execution_count": null,
   "id": "6e06858e-3372-49dd-b58a-5b4359ecdc61",
   "metadata": {},
   "outputs": [],
   "source": [
    "import sqlite3\n",
    "\n",
    "# Connect to the database\n",
    "conn = sqlite3.connect('example.db')\n",
    "\n",
    "# Create a cursor object\n",
    "cursor = conn.cursor()\n",
    "\n",
    "# Execute a SELECT statement\n",
    "cursor.execute(\"SELECT * FROM students\")\n",
    "\n",
    "# Fetch all the rows and print them\n",
    "rows = cursor.fetchall()\n",
    "for row in rows:\n",
    "    print(row)\n",
    "\n",
    "# Close the cursor and the database connection\n",
    "cursor.close()\n",
    "conn.close()\n"
   ]
  },
  {
   "cell_type": "code",
   "execution_count": 5,
   "id": "09c37acd-25b6-4167-89d0-3332946e4470",
   "metadata": {},
   "outputs": [],
   "source": [
    "###question no 5"
   ]
  },
  {
   "cell_type": "code",
   "execution_count": null,
   "id": "c1947c67-f230-44e6-ad6f-7107d14b27de",
   "metadata": {},
   "outputs": [],
   "source": [
    "A primary key is a column or set of columns in a database table that uniquely identifies each record in the table. It must have a unique value for each record, and it cannot contain null values. The primary key is used to enforce data integrity by ensuring that each record in the table is uniquely identified and that no two records have the same values in the primary key columns.\n",
    "\n",
    "A foreign key, on the other hand, is a column or set of columns in a database table that references the primary key of another table. The foreign key establishes a relationship between two tables, where the values in the foreign key columns in one table must match the values in the primary key columns in the other table. This relationship is used to enforce referential integrity by ensuring that each record in the referencing table is associated with a valid record in the referenced table.\n",
    "\n",
    "In other words, a primary key is used to uniquely identify records within a table, while a foreign key is used to link records between tables. Together, these two concepts are fundamental to relational database design and play a critical role in maintaining data integrity and consistency"
   ]
  },
  {
   "cell_type": "code",
   "execution_count": 6,
   "id": "6bb495ea-a388-4c57-a490-c94ae29e3b03",
   "metadata": {},
   "outputs": [],
   "source": [
    "###question no 6"
   ]
  },
  {
   "cell_type": "code",
   "execution_count": null,
   "id": "f76f0c31-0ccd-4ff5-9755-b49ae25124a7",
   "metadata": {},
   "outputs": [],
   "source": [
    "To connect to an SQL database using Python, you can use the mysql-connector-python library. You can install it by running the following command in your terminal or command prompt:"
   ]
  },
  {
   "cell_type": "code",
   "execution_count": null,
   "id": "1011f21d-1c91-4ebf-8385-5f80273f959e",
   "metadata": {},
   "outputs": [],
   "source": [
    "import mysql.connector\n",
    "\n",
    "# Replace the placeholders with your own values\n",
    "mydb = mysql.connector.connect(\n",
    "  host=\"localhost\",\n",
    "  user=\"yourusername\",\n",
    "  password=\"yourpassword\",\n",
    "  database=\"yourdatabase\"\n",
    ")\n",
    "\n",
    "# Create a cursor object to execute SQL queries\n",
    "mycursor = mydb.cursor()\n"
   ]
  },
  {
   "cell_type": "code",
   "execution_count": null,
   "id": "3a6bf665-e0e4-4118-83ae-2a6071c559f2",
   "metadata": {},
   "outputs": [],
   "source": [
    "mycursor.execute(\"SELECT * FROM mytable\")\n"
   ]
  },
  {
   "cell_type": "code",
   "execution_count": null,
   "id": "c3cbcbea-4eb5-4777-b74d-122f19dc43b1",
   "metadata": {},
   "outputs": [],
   "source": [
    "sql = \"INSERT INTO mytable (name, age) VALUES (%s, %s)\"\n",
    "val = (\"John\", 25)\n",
    "mycursor.execute(sql, val)\n"
   ]
  },
  {
   "cell_type": "code",
   "execution_count": 7,
   "id": "202e0b6f-afca-41b9-abbc-0ed79ebb45fc",
   "metadata": {},
   "outputs": [],
   "source": [
    "###question no 7"
   ]
  },
  {
   "cell_type": "code",
   "execution_count": null,
   "id": "317f72b1-0123-4370-b91c-8b8f0f562305",
   "metadata": {},
   "outputs": [],
   "source": []
  }
 ],
 "metadata": {
  "kernelspec": {
   "display_name": "Python 3 (ipykernel)",
   "language": "python",
   "name": "python3"
  },
  "language_info": {
   "codemirror_mode": {
    "name": "ipython",
    "version": 3
   },
   "file_extension": ".py",
   "mimetype": "text/x-python",
   "name": "python",
   "nbconvert_exporter": "python",
   "pygments_lexer": "ipython3",
   "version": "3.10.8"
  }
 },
 "nbformat": 4,
 "nbformat_minor": 5
}
